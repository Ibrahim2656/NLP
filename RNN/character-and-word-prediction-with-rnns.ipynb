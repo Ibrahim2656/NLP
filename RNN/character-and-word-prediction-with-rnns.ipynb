{
 "cells": [
  {
   "cell_type": "code",
   "execution_count": 1,
   "id": "f015cf72",
   "metadata": {
    "execution": {
     "iopub.execute_input": "2024-05-21T18:30:28.343846Z",
     "iopub.status.busy": "2024-05-21T18:30:28.343466Z",
     "iopub.status.idle": "2024-05-21T18:30:44.402063Z",
     "shell.execute_reply": "2024-05-21T18:30:44.400586Z"
    },
    "papermill": {
     "duration": 16.067979,
     "end_time": "2024-05-21T18:30:44.404699",
     "exception": false,
     "start_time": "2024-05-21T18:30:28.336720",
     "status": "completed"
    },
    "tags": []
   },
   "outputs": [
    {
     "name": "stdout",
     "output_type": "stream",
     "text": [
      "Collecting fpdf\r\n",
      "  Downloading fpdf-1.7.2.tar.gz (39 kB)\r\n",
      "  Preparing metadata (setup.py) ... \u001b[?25l-\b \b\\\b \bdone\r\n",
      "\u001b[?25hBuilding wheels for collected packages: fpdf\r\n",
      "  Building wheel for fpdf (setup.py) ... \u001b[?25l-\b \b\\\b \b|\b \bdone\r\n",
      "\u001b[?25h  Created wheel for fpdf: filename=fpdf-1.7.2-py2.py3-none-any.whl size=40703 sha256=e223ff0c6812913d00e73815781a94c57f4d7c9bcec5034d40bb4e578c6cfdd2\r\n",
      "  Stored in directory: /root/.cache/pip/wheels/f9/95/ba/f418094659025eb9611f17cbcaf2334236bf39a0c3453ea455\r\n",
      "Successfully built fpdf\r\n",
      "Installing collected packages: fpdf\r\n",
      "Successfully installed fpdf-1.7.2\r\n"
     ]
    }
   ],
   "source": [
    "! pip install fpdf"
   ]
  },
  {
   "cell_type": "code",
   "execution_count": 2,
   "id": "c2b0f1ae",
   "metadata": {
    "execution": {
     "iopub.execute_input": "2024-05-21T18:30:44.417103Z",
     "iopub.status.busy": "2024-05-21T18:30:44.416597Z",
     "iopub.status.idle": "2024-05-21T18:30:58.856082Z",
     "shell.execute_reply": "2024-05-21T18:30:58.854454Z"
    },
    "papermill": {
     "duration": 14.44987,
     "end_time": "2024-05-21T18:30:58.859721",
     "exception": false,
     "start_time": "2024-05-21T18:30:44.409851",
     "status": "completed"
    },
    "tags": []
   },
   "outputs": [
    {
     "name": "stdout",
     "output_type": "stream",
     "text": [
      "Collecting wikipedia\r\n",
      "  Downloading wikipedia-1.4.0.tar.gz (27 kB)\r\n",
      "  Preparing metadata (setup.py) ... \u001b[?25l-\b \bdone\r\n",
      "\u001b[?25hRequirement already satisfied: beautifulsoup4 in /opt/conda/lib/python3.10/site-packages (from wikipedia) (4.12.2)\r\n",
      "Requirement already satisfied: requests<3.0.0,>=2.0.0 in /opt/conda/lib/python3.10/site-packages (from wikipedia) (2.31.0)\r\n",
      "Requirement already satisfied: charset-normalizer<4,>=2 in /opt/conda/lib/python3.10/site-packages (from requests<3.0.0,>=2.0.0->wikipedia) (3.3.2)\r\n",
      "Requirement already satisfied: idna<4,>=2.5 in /opt/conda/lib/python3.10/site-packages (from requests<3.0.0,>=2.0.0->wikipedia) (3.6)\r\n",
      "Requirement already satisfied: urllib3<3,>=1.21.1 in /opt/conda/lib/python3.10/site-packages (from requests<3.0.0,>=2.0.0->wikipedia) (1.26.18)\r\n",
      "Requirement already satisfied: certifi>=2017.4.17 in /opt/conda/lib/python3.10/site-packages (from requests<3.0.0,>=2.0.0->wikipedia) (2024.2.2)\r\n",
      "Requirement already satisfied: soupsieve>1.2 in /opt/conda/lib/python3.10/site-packages (from beautifulsoup4->wikipedia) (2.5)\r\n",
      "Building wheels for collected packages: wikipedia\r\n",
      "  Building wheel for wikipedia (setup.py) ... \u001b[?25l-\b \b\\\b \bdone\r\n",
      "\u001b[?25h  Created wheel for wikipedia: filename=wikipedia-1.4.0-py3-none-any.whl size=11678 sha256=700fed647c99591e4b4e09632fcbb88aabcc638576704cbc6823d91cad258fe5\r\n",
      "  Stored in directory: /root/.cache/pip/wheels/5e/b6/c5/93f3dec388ae76edc830cb42901bb0232504dfc0df02fc50de\r\n",
      "Successfully built wikipedia\r\n",
      "Installing collected packages: wikipedia\r\n",
      "Successfully installed wikipedia-1.4.0\r\n"
     ]
    }
   ],
   "source": [
    "!pip install wikipedia"
   ]
  },
  {
   "cell_type": "code",
   "execution_count": 3,
   "id": "fd33ff55",
   "metadata": {
    "execution": {
     "iopub.execute_input": "2024-05-21T18:30:58.873142Z",
     "iopub.status.busy": "2024-05-21T18:30:58.872736Z",
     "iopub.status.idle": "2024-05-21T18:31:15.151596Z",
     "shell.execute_reply": "2024-05-21T18:31:15.150310Z"
    },
    "papermill": {
     "duration": 16.289488,
     "end_time": "2024-05-21T18:31:15.155046",
     "exception": false,
     "start_time": "2024-05-21T18:30:58.865558",
     "status": "completed"
    },
    "tags": []
   },
   "outputs": [
    {
     "name": "stderr",
     "output_type": "stream",
     "text": [
      "2024-05-21 18:31:02.537211: E external/local_xla/xla/stream_executor/cuda/cuda_dnn.cc:9261] Unable to register cuDNN factory: Attempting to register factory for plugin cuDNN when one has already been registered\n",
      "2024-05-21 18:31:02.537372: E external/local_xla/xla/stream_executor/cuda/cuda_fft.cc:607] Unable to register cuFFT factory: Attempting to register factory for plugin cuFFT when one has already been registered\n",
      "2024-05-21 18:31:02.691614: E external/local_xla/xla/stream_executor/cuda/cuda_blas.cc:1515] Unable to register cuBLAS factory: Attempting to register factory for plugin cuBLAS when one has already been registered\n"
     ]
    }
   ],
   "source": [
    "# Import libraries\n",
    "import numpy as np\n",
    "import wikipedia\n",
    "from sklearn.model_selection import train_test_split\n",
    "import re\n",
    "import matplotlib.pyplot as plt\n",
    "import tensorflow as tf\n",
    "from tensorflow.keras.preprocessing.text import Tokenizer\n",
    "from tensorflow.keras.preprocessing.sequence import pad_sequences\n",
    "from fpdf import FPDF\n",
    "import nltk\n",
    "from nltk.corpus import stopwords"
   ]
  },
  {
   "cell_type": "code",
   "execution_count": 4,
   "id": "401ec3c9",
   "metadata": {
    "execution": {
     "iopub.execute_input": "2024-05-21T18:31:15.169750Z",
     "iopub.status.busy": "2024-05-21T18:31:15.168488Z",
     "iopub.status.idle": "2024-05-21T18:31:15.188083Z",
     "shell.execute_reply": "2024-05-21T18:31:15.186857Z"
    },
    "papermill": {
     "duration": 0.029611,
     "end_time": "2024-05-21T18:31:15.190551",
     "exception": false,
     "start_time": "2024-05-21T18:31:15.160940",
     "status": "completed"
    },
    "tags": []
   },
   "outputs": [],
   "source": [
    "# Function to clean sentences\n",
    "def clean_sentences(sentence):\n",
    "    sentence = re.sub(r\"https?://\\S+|www\\.\\S+\",\" \",sentence)  # for URLs\n",
    "    sentence = re.sub(r\"<.*?>|&([a-z0-9]+|#[0-9]{1,6}|#x[0-9a-f]{1,6});\",\" \",sentence)  # HTML tags\n",
    "    sentence = re.sub(r\"[^\\w\\s]\", \" \", sentence)  # Removing Punctuation\n",
    "    sentence = re.sub(r\"\\w*\\d\\w*\", \" \", sentence)  # Removing words that have numbers\n",
    "    sentence = re.sub(r\"[0-9]+\", \" \", sentence)  # Removing Digits\n",
    "    sentence = re.sub(r\"\\s+\", \" \", sentence).strip()  # Cleaning white spaces\n",
    "    sentence = sentence.lower()\n",
    "    words = check_stopwords(sentence)\n",
    "    return \" \".join(words)\n",
    "\n",
    "# Function to remove stopwords\n",
    "def check_stopwords(sentence):\n",
    "    final_sentence=[]\n",
    "    for word in sentence.split():\n",
    "        if word not in stop_words:\n",
    "            final_sentence.append(word)\n",
    "    return final_sentence\n",
    "\n",
    "# Function to generate text predictions\n",
    "def generate_text(seed_text, next_words, model, tokenizer, max_sequence_len):\n",
    "    for _ in range(next_words):\n",
    "        token_list = tokenizer.texts_to_sequences([seed_text])[0]\n",
    "        token_list = pad_sequences([token_list], maxlen=max_sequence_len-1, padding='pre')\n",
    "        predicted_probs = model.predict(token_list, verbose=0)\n",
    "        predicted = np.argmax(predicted_probs)\n",
    "        output_word = \"\"\n",
    "        for word, index in tokenizer.word_index.items():\n",
    "            if index == predicted:\n",
    "                output_word = word\n",
    "                break\n",
    "        seed_text += \" \" + output_word\n",
    "    return seed_text\n",
    "\n",
    "# Function to create PDF report\n",
    "def create_pdf_report(model_type, history, predicted_text, conclusion):\n",
    "    pdf = FPDF()\n",
    "    pdf.add_page()\n",
    "    pdf.set_font(\"Arial\", size=12)\n",
    "    pdf.cell(200, 10, txt=\"Summary and Conclusions\", ln=True, align='C')\n",
    "    pdf.cell(200, 10, txt=\"\", ln=True, align='C')  # Add blank line\n",
    "    pdf.cell(200, 10, txt=f\"Model Type: {model_type}\", ln=True, align='L')\n",
    "    pdf.cell(200, 10, txt=\"\", ln=True, align='L')  # Add blank line\n",
    "    pdf.cell(200, 10, txt=\"Training and Validation Accuracy Plot\", ln=True, align='L')\n",
    "    plot_training_history(history, 'accuracy', f'{model_type}_accuracy_plot.png')\n",
    "    pdf.image(f'{model_type}_accuracy_plot.png', x=10, y=pdf.get_y() + 10, w=180)\n",
    "    pdf.cell(200, 10, txt=\"\", ln=True, align='L')  # Add blank line\n",
    "    pdf.cell(200, 10, txt=\"Training and Validation Loss Plot\", ln=True, align='L')\n",
    "    plot_training_history(history, 'loss', f'{model_type}_loss_plot.png')\n",
    "    pdf.image(f'{model_type}_loss_plot.png', x=10, y=pdf.get_y() + 10, w=180)\n",
    "    pdf.cell(200, 10, txt=\"\", ln=True, align='L')  # Add blank line\n",
    "    pdf.cell(200, 10, txt=\"Predicted Text:\", ln=True, align='L')\n",
    "    pdf.multi_cell(200, 10, txt=predicted_text, align='L')  # Use multi_cell for predicted text\n",
    "    pdf.cell(200, 10, txt=\"\", ln=True, align='L')  # Add blank line\n",
    "    pdf.cell(200, 10, txt=\"Conclusions:\", ln=True, align='L')\n",
    "    pdf.multi_cell(200, 10, txt=conclusion, align='L')  # Use multi_cell for conclusions\n",
    "    pdf.output(f\"{model_type}_summary.pdf\")\n",
    "\n",
    "# Preprocess the data for character-level tokenization\n",
    "def preprocess_char_level(data):\n",
    "    cleaned_text = clean_sentences(data.lower())\n",
    "    return cleaned_text\n",
    "# Preprocess the data for word-level tokenization\n",
    "def preprocess_word_level(data):\n",
    "    cleaned_text = clean_sentences(data.lower())\n",
    "    return cleaned_text\n",
    "# Function to plot training history\n",
    "def plot_training_history(history, metric, filename):\n",
    "    plt.plot(history.history[metric])\n",
    "    plt.plot(history.history[f'val_{metric}'])\n",
    "    plt.title(f'Model {metric.capitalize()}')\n",
    "    plt.xlabel('Epoch')\n",
    "    plt.ylabel(metric.capitalize())\n",
    "    plt.legend(['Train', 'Validation'], loc='upper left')\n",
    "    plt.show()\n",
    "    plt.savefig(filename)\n",
    "    plt.close()\n"
   ]
  },
  {
   "cell_type": "code",
   "execution_count": 5,
   "id": "25134689",
   "metadata": {
    "execution": {
     "iopub.execute_input": "2024-05-21T18:31:15.208646Z",
     "iopub.status.busy": "2024-05-21T18:31:15.207532Z",
     "iopub.status.idle": "2024-05-21T18:31:15.934158Z",
     "shell.execute_reply": "2024-05-21T18:31:15.933215Z"
    },
    "papermill": {
     "duration": 0.738353,
     "end_time": "2024-05-21T18:31:15.937087",
     "exception": false,
     "start_time": "2024-05-21T18:31:15.198734",
     "status": "completed"
    },
    "tags": []
   },
   "outputs": [],
   "source": [
    "# Load Data\n",
    "topic = \"Artificial Intelligence\"\n",
    "summary = wikipedia.summary(topic)"
   ]
  },
  {
   "cell_type": "code",
   "execution_count": 6,
   "id": "c976912a",
   "metadata": {
    "execution": {
     "iopub.execute_input": "2024-05-21T18:31:15.955823Z",
     "iopub.status.busy": "2024-05-21T18:31:15.955105Z",
     "iopub.status.idle": "2024-05-21T18:31:15.974730Z",
     "shell.execute_reply": "2024-05-21T18:31:15.973510Z"
    },
    "papermill": {
     "duration": 0.03204,
     "end_time": "2024-05-21T18:31:15.977486",
     "exception": false,
     "start_time": "2024-05-21T18:31:15.945446",
     "status": "completed"
    },
    "tags": []
   },
   "outputs": [],
   "source": [
    "stop_words = set(stopwords.words('english'))\n",
    "cleaned_text_char = preprocess_char_level(summary)\n",
    "cleaned_text_word = preprocess_word_level(summary)\n",
    "# Split data into training and testing sets\n",
    "X_train_char, X_test_char = train_test_split([cleaned_text_char]*2, test_size=0.1, random_state=42)\n",
    "X_train_word, X_test_word = train_test_split([cleaned_text_word]*2, test_size=0.1, random_state=42)"
   ]
  },
  {
   "cell_type": "code",
   "execution_count": 7,
   "id": "5c6c8d0a",
   "metadata": {
    "execution": {
     "iopub.execute_input": "2024-05-21T18:31:15.992618Z",
     "iopub.status.busy": "2024-05-21T18:31:15.992234Z",
     "iopub.status.idle": "2024-05-21T18:31:16.001094Z",
     "shell.execute_reply": "2024-05-21T18:31:16.000210Z"
    },
    "papermill": {
     "duration": 0.019894,
     "end_time": "2024-05-21T18:31:16.004419",
     "exception": false,
     "start_time": "2024-05-21T18:31:15.984525",
     "status": "completed"
    },
    "tags": []
   },
   "outputs": [],
   "source": [
    "# Tokenize the text for character-level model\n",
    "tokenizer_char = Tokenizer(char_level=True)\n",
    "tokenizer_char.fit_on_texts(X_train_char)\n",
    "sequences_train_char = tokenizer_char.texts_to_sequences(X_train_char)\n",
    "sequences_test_char = tokenizer_char.texts_to_sequences(X_test_char)\n",
    "vocab_size_char = len(tokenizer_char.word_index) + 1\n",
    "\n",
    "# Tokenize the text for word-level model\n",
    "tokenizer_word = Tokenizer()\n",
    "tokenizer_word.fit_on_texts(X_train_word)\n",
    "sequences_train_word = tokenizer_word.texts_to_sequences(X_train_word)\n",
    "sequences_test_word = tokenizer_word.texts_to_sequences(X_test_word)\n",
    "vocab_size_word = len(tokenizer_word.word_index) + 1"
   ]
  },
  {
   "cell_type": "code",
   "execution_count": 8,
   "id": "c3b79b98",
   "metadata": {
    "execution": {
     "iopub.execute_input": "2024-05-21T18:31:16.019211Z",
     "iopub.status.busy": "2024-05-21T18:31:16.018808Z",
     "iopub.status.idle": "2024-05-21T18:31:16.026235Z",
     "shell.execute_reply": "2024-05-21T18:31:16.025348Z"
    },
    "papermill": {
     "duration": 0.016851,
     "end_time": "2024-05-21T18:31:16.028543",
     "exception": false,
     "start_time": "2024-05-21T18:31:16.011692",
     "status": "completed"
    },
    "tags": []
   },
   "outputs": [],
   "source": [
    "# Vectorize the data for character-level model\n",
    "max_len_char = max([len(seq) for seq in sequences_train_char])\n",
    "X_train_char = pad_sequences(sequences_train_char, maxlen=max_len_char, padding='pre')\n",
    "X_test_char = pad_sequences(sequences_test_char, maxlen=max_len_char, padding='pre')\n",
    "\n",
    "# Vectorize the data for word-level model\n",
    "max_len_word = 40\n",
    "X_train_word = pad_sequences(sequences_train_word, maxlen=max_len_word, padding='pre')\n",
    "X_test_word = pad_sequences(sequences_test_word, maxlen=max_len_word, padding='pre')"
   ]
  },
  {
   "cell_type": "code",
   "execution_count": 9,
   "id": "369b5553",
   "metadata": {
    "execution": {
     "iopub.execute_input": "2024-05-21T18:31:16.041875Z",
     "iopub.status.busy": "2024-05-21T18:31:16.041159Z",
     "iopub.status.idle": "2024-05-21T18:31:16.048838Z",
     "shell.execute_reply": "2024-05-21T18:31:16.047998Z"
    },
    "papermill": {
     "duration": 0.016815,
     "end_time": "2024-05-21T18:31:16.051004",
     "exception": false,
     "start_time": "2024-05-21T18:31:16.034189",
     "status": "completed"
    },
    "tags": []
   },
   "outputs": [],
   "source": [
    "# Split sequences into input and output for character-level model\n",
    "y_train_char = X_train_char[:, -1]\n",
    "y_test_char = X_test_char[:, -1]\n",
    "X_train_char, y_train_char = X_train_char[:, :-1], tf.keras.utils.to_categorical(y_train_char, num_classes=vocab_size_char)\n",
    "X_test_char, y_test_char = X_test_char[:, :-1], tf.keras.utils.to_categorical(y_test_char, num_classes=vocab_size_char)\n",
    "\n",
    "# Split sequences into input and output for word-level model\n",
    "y_train_word = X_train_word[:, -1]\n",
    "y_test_word = X_test_word[:, -1]\n",
    "X_train_word, y_train_word = X_train_word[:, :-1], tf.keras.utils.to_categorical(y_train_word, num_classes=vocab_size_word)\n",
    "X_test_word, y_test_word = X_test_word[:, :-1], tf.keras.utils.to_categorical(y_test_word, num_classes=vocab_size_word)"
   ]
  },
  {
   "cell_type": "code",
   "execution_count": 10,
   "id": "c69acba4",
   "metadata": {
    "execution": {
     "iopub.execute_input": "2024-05-21T18:31:16.064394Z",
     "iopub.status.busy": "2024-05-21T18:31:16.063675Z",
     "iopub.status.idle": "2024-05-21T18:32:39.231754Z",
     "shell.execute_reply": "2024-05-21T18:32:39.230798Z"
    },
    "papermill": {
     "duration": 83.177693,
     "end_time": "2024-05-21T18:32:39.234229",
     "exception": false,
     "start_time": "2024-05-21T18:31:16.056536",
     "status": "completed"
    },
    "tags": []
   },
   "outputs": [
    {
     "name": "stdout",
     "output_type": "stream",
     "text": [
      "Epoch 1/30\n"
     ]
    },
    {
     "name": "stderr",
     "output_type": "stream",
     "text": [
      "/opt/conda/lib/python3.10/site-packages/keras/src/layers/core/embedding.py:86: UserWarning: Argument `input_length` is deprecated. Just remove it.\n",
      "  warnings.warn(\n"
     ]
    },
    {
     "name": "stdout",
     "output_type": "stream",
     "text": [
      "1/1 - 6s - 6s/step - accuracy: 0.0000e+00 - loss: 3.6131 - val_accuracy: 1.0000 - val_loss: 1.4065\n",
      "Epoch 2/30\n",
      "1/1 - 2s - 2s/step - accuracy: 1.0000 - loss: 1.6785 - val_accuracy: 1.0000 - val_loss: 1.1524\n",
      "Epoch 3/30\n",
      "1/1 - 2s - 2s/step - accuracy: 1.0000 - loss: 1.8346 - val_accuracy: 1.0000 - val_loss: 1.4478\n",
      "Epoch 4/30\n",
      "1/1 - 3s - 3s/step - accuracy: 1.0000 - loss: 1.8307 - val_accuracy: 1.0000 - val_loss: 0.3518\n",
      "Epoch 5/30\n",
      "1/1 - 3s - 3s/step - accuracy: 1.0000 - loss: 0.4725 - val_accuracy: 1.0000 - val_loss: 0.3775\n",
      "Epoch 6/30\n",
      "1/1 - 3s - 3s/step - accuracy: 1.0000 - loss: 0.2649 - val_accuracy: 1.0000 - val_loss: 0.2554\n",
      "Epoch 7/30\n",
      "1/1 - 3s - 3s/step - accuracy: 1.0000 - loss: 0.2524 - val_accuracy: 1.0000 - val_loss: 0.1922\n",
      "Epoch 8/30\n",
      "1/1 - 2s - 2s/step - accuracy: 1.0000 - loss: 0.4797 - val_accuracy: 1.0000 - val_loss: 0.1537\n",
      "Epoch 9/30\n",
      "1/1 - 3s - 3s/step - accuracy: 1.0000 - loss: 0.1799 - val_accuracy: 1.0000 - val_loss: 0.1148\n",
      "Epoch 10/30\n",
      "1/1 - 3s - 3s/step - accuracy: 1.0000 - loss: 0.0860 - val_accuracy: 1.0000 - val_loss: 0.0814\n",
      "Epoch 11/30\n",
      "1/1 - 3s - 3s/step - accuracy: 1.0000 - loss: 0.1040 - val_accuracy: 1.0000 - val_loss: 0.0607\n",
      "Epoch 12/30\n",
      "1/1 - 3s - 3s/step - accuracy: 1.0000 - loss: 0.1114 - val_accuracy: 1.0000 - val_loss: 0.0466\n",
      "Epoch 13/30\n",
      "1/1 - 3s - 3s/step - accuracy: 1.0000 - loss: 0.0652 - val_accuracy: 1.0000 - val_loss: 0.0365\n",
      "Epoch 14/30\n",
      "1/1 - 3s - 3s/step - accuracy: 1.0000 - loss: 0.0337 - val_accuracy: 1.0000 - val_loss: 0.0293\n",
      "Epoch 15/30\n",
      "1/1 - 2s - 2s/step - accuracy: 1.0000 - loss: 0.0499 - val_accuracy: 1.0000 - val_loss: 0.0239\n",
      "Epoch 16/30\n",
      "1/1 - 3s - 3s/step - accuracy: 1.0000 - loss: 0.0265 - val_accuracy: 1.0000 - val_loss: 0.0198\n",
      "Epoch 17/30\n",
      "1/1 - 2s - 2s/step - accuracy: 1.0000 - loss: 0.0136 - val_accuracy: 1.0000 - val_loss: 0.0167\n",
      "Epoch 18/30\n",
      "1/1 - 3s - 3s/step - accuracy: 1.0000 - loss: 0.0178 - val_accuracy: 1.0000 - val_loss: 0.0142\n",
      "Epoch 19/30\n",
      "1/1 - 2s - 2s/step - accuracy: 1.0000 - loss: 0.0314 - val_accuracy: 1.0000 - val_loss: 0.0123\n",
      "Epoch 20/30\n",
      "1/1 - 3s - 3s/step - accuracy: 1.0000 - loss: 0.0119 - val_accuracy: 1.0000 - val_loss: 0.0107\n",
      "Epoch 21/30\n",
      "1/1 - 2s - 2s/step - accuracy: 1.0000 - loss: 0.0113 - val_accuracy: 1.0000 - val_loss: 0.0095\n",
      "Epoch 22/30\n",
      "1/1 - 3s - 3s/step - accuracy: 1.0000 - loss: 0.0082 - val_accuracy: 1.0000 - val_loss: 0.0085\n",
      "Epoch 23/30\n",
      "1/1 - 2s - 2s/step - accuracy: 1.0000 - loss: 0.0158 - val_accuracy: 1.0000 - val_loss: 0.0077\n",
      "Epoch 24/30\n",
      "1/1 - 3s - 3s/step - accuracy: 1.0000 - loss: 0.0054 - val_accuracy: 1.0000 - val_loss: 0.0070\n",
      "Epoch 25/30\n",
      "1/1 - 3s - 3s/step - accuracy: 1.0000 - loss: 0.0279 - val_accuracy: 1.0000 - val_loss: 0.0063\n",
      "Epoch 26/30\n",
      "1/1 - 3s - 3s/step - accuracy: 1.0000 - loss: 0.0072 - val_accuracy: 1.0000 - val_loss: 0.0058\n",
      "Epoch 27/30\n",
      "1/1 - 2s - 2s/step - accuracy: 1.0000 - loss: 0.0107 - val_accuracy: 1.0000 - val_loss: 0.0053\n",
      "Epoch 28/30\n",
      "1/1 - 2s - 2s/step - accuracy: 1.0000 - loss: 0.0073 - val_accuracy: 1.0000 - val_loss: 0.0049\n",
      "Epoch 29/30\n",
      "1/1 - 2s - 2s/step - accuracy: 1.0000 - loss: 0.0058 - val_accuracy: 1.0000 - val_loss: 0.0046\n",
      "Epoch 30/30\n",
      "1/1 - 3s - 3s/step - accuracy: 1.0000 - loss: 0.0135 - val_accuracy: 1.0000 - val_loss: 0.0043\n",
      "Generated Text (Character-based): artificial intelligence a s s s s s s s s s s s s s s s s s s s s s s s s s s s s s s s s s s s s s s s s s s s s s s s s s\n"
     ]
    }
   ],
   "source": [
    "# Build the character-based RNN model\n",
    "model_char = tf.keras.Sequential([\n",
    "    tf.keras.layers.Embedding(input_dim=vocab_size_char, output_dim=64, input_length=max_len_char-1),\n",
    "    tf.keras.layers.RNN(tf.keras.layers.SimpleRNNCell(128), return_sequences=True),\n",
    "    tf.keras.layers.Dropout(0.2),\n",
    "    tf.keras.layers.RNN(tf.keras.layers.SimpleRNNCell(128)),\n",
    "    tf.keras.layers.Dropout(0.2),\n",
    "    tf.keras.layers.Dense(vocab_size_char, activation='softmax')\n",
    "])\n",
    "\n",
    "model_char.compile(loss='categorical_crossentropy', optimizer='adam', metrics=['accuracy'])\n",
    "\n",
    "# Train the character-based RNN model\n",
    "history_char = model_char.fit(X_train_char, y_train_char, epochs=30, validation_data=(X_test_char, y_test_char), verbose=2)\n",
    "\n",
    "# Generate text predictions for character-based model\n",
    "seed_text_char = \"artificial intelligence\"\n",
    "predicted_text_char = generate_text(seed_text_char, 50, model_char, tokenizer_char, max_len_char)\n",
    "print(\"Generated Text (Character-based):\", predicted_text_char)\n"
   ]
  },
  {
   "cell_type": "code",
   "execution_count": 11,
   "id": "afcffe85",
   "metadata": {
    "execution": {
     "iopub.execute_input": "2024-05-21T18:32:39.256013Z",
     "iopub.status.busy": "2024-05-21T18:32:39.255046Z",
     "iopub.status.idle": "2024-05-21T18:32:50.066531Z",
     "shell.execute_reply": "2024-05-21T18:32:50.065217Z"
    },
    "papermill": {
     "duration": 10.825112,
     "end_time": "2024-05-21T18:32:50.068959",
     "exception": false,
     "start_time": "2024-05-21T18:32:39.243847",
     "status": "completed"
    },
    "tags": []
   },
   "outputs": [
    {
     "name": "stdout",
     "output_type": "stream",
     "text": [
      "Epoch 1/30\n",
      "1/1 - 4s - 4s/step - accuracy: 0.0000e+00 - loss: 5.4884 - val_accuracy: 1.0000 - val_loss: 3.7091\n",
      "Epoch 2/30\n",
      "1/1 - 0s - 214ms/step - accuracy: 1.0000 - loss: 3.6317 - val_accuracy: 1.0000 - val_loss: 2.7665\n",
      "Epoch 3/30\n",
      "1/1 - 0s - 65ms/step - accuracy: 1.0000 - loss: 2.9153 - val_accuracy: 1.0000 - val_loss: 2.0326\n",
      "Epoch 4/30\n",
      "1/1 - 0s - 61ms/step - accuracy: 1.0000 - loss: 1.7809 - val_accuracy: 1.0000 - val_loss: 1.5001\n",
      "Epoch 5/30\n",
      "1/1 - 0s - 66ms/step - accuracy: 1.0000 - loss: 1.5002 - val_accuracy: 1.0000 - val_loss: 1.0849\n",
      "Epoch 6/30\n",
      "1/1 - 0s - 79ms/step - accuracy: 1.0000 - loss: 1.0134 - val_accuracy: 1.0000 - val_loss: 0.7770\n",
      "Epoch 7/30\n",
      "1/1 - 0s - 123ms/step - accuracy: 1.0000 - loss: 0.8424 - val_accuracy: 1.0000 - val_loss: 0.5342\n",
      "Epoch 8/30\n",
      "1/1 - 0s - 64ms/step - accuracy: 1.0000 - loss: 0.5274 - val_accuracy: 1.0000 - val_loss: 0.3636\n",
      "Epoch 9/30\n",
      "1/1 - 0s - 154ms/step - accuracy: 1.0000 - loss: 0.5268 - val_accuracy: 1.0000 - val_loss: 0.2512\n",
      "Epoch 10/30\n",
      "1/1 - 0s - 128ms/step - accuracy: 1.0000 - loss: 0.1912 - val_accuracy: 1.0000 - val_loss: 0.1818\n",
      "Epoch 11/30\n",
      "1/1 - 0s - 154ms/step - accuracy: 1.0000 - loss: 0.1815 - val_accuracy: 1.0000 - val_loss: 0.1344\n",
      "Epoch 12/30\n",
      "1/1 - 0s - 83ms/step - accuracy: 1.0000 - loss: 0.1900 - val_accuracy: 1.0000 - val_loss: 0.1000\n",
      "Epoch 13/30\n",
      "1/1 - 0s - 65ms/step - accuracy: 1.0000 - loss: 0.1796 - val_accuracy: 1.0000 - val_loss: 0.0750\n",
      "Epoch 14/30\n",
      "1/1 - 0s - 140ms/step - accuracy: 1.0000 - loss: 0.3186 - val_accuracy: 1.0000 - val_loss: 0.0561\n",
      "Epoch 15/30\n",
      "1/1 - 0s - 137ms/step - accuracy: 1.0000 - loss: 0.0655 - val_accuracy: 1.0000 - val_loss: 0.0436\n",
      "Epoch 16/30\n",
      "1/1 - 0s - 65ms/step - accuracy: 1.0000 - loss: 0.0390 - val_accuracy: 1.0000 - val_loss: 0.0352\n",
      "Epoch 17/30\n",
      "1/1 - 0s - 139ms/step - accuracy: 1.0000 - loss: 0.0507 - val_accuracy: 1.0000 - val_loss: 0.0291\n",
      "Epoch 18/30\n",
      "1/1 - 0s - 71ms/step - accuracy: 1.0000 - loss: 0.0314 - val_accuracy: 1.0000 - val_loss: 0.0247\n",
      "Epoch 19/30\n",
      "1/1 - 0s - 140ms/step - accuracy: 1.0000 - loss: 0.0146 - val_accuracy: 1.0000 - val_loss: 0.0213\n",
      "Epoch 20/30\n",
      "1/1 - 0s - 131ms/step - accuracy: 1.0000 - loss: 0.0575 - val_accuracy: 1.0000 - val_loss: 0.0185\n",
      "Epoch 21/30\n",
      "1/1 - 0s - 63ms/step - accuracy: 1.0000 - loss: 0.0258 - val_accuracy: 1.0000 - val_loss: 0.0162\n",
      "Epoch 22/30\n",
      "1/1 - 0s - 60ms/step - accuracy: 1.0000 - loss: 0.0124 - val_accuracy: 1.0000 - val_loss: 0.0144\n",
      "Epoch 23/30\n",
      "1/1 - 0s - 64ms/step - accuracy: 1.0000 - loss: 0.0252 - val_accuracy: 1.0000 - val_loss: 0.0129\n",
      "Epoch 24/30\n",
      "1/1 - 0s - 63ms/step - accuracy: 1.0000 - loss: 0.0129 - val_accuracy: 1.0000 - val_loss: 0.0117\n",
      "Epoch 25/30\n",
      "1/1 - 0s - 64ms/step - accuracy: 1.0000 - loss: 0.0144 - val_accuracy: 1.0000 - val_loss: 0.0107\n",
      "Epoch 26/30\n",
      "1/1 - 0s - 64ms/step - accuracy: 1.0000 - loss: 0.0074 - val_accuracy: 1.0000 - val_loss: 0.0098\n",
      "Epoch 27/30\n",
      "1/1 - 0s - 157ms/step - accuracy: 1.0000 - loss: 0.0036 - val_accuracy: 1.0000 - val_loss: 0.0091\n",
      "Epoch 28/30\n",
      "1/1 - 0s - 121ms/step - accuracy: 1.0000 - loss: 0.0093 - val_accuracy: 1.0000 - val_loss: 0.0084\n",
      "Epoch 29/30\n",
      "1/1 - 0s - 141ms/step - accuracy: 1.0000 - loss: 0.0053 - val_accuracy: 1.0000 - val_loss: 0.0079\n",
      "Epoch 30/30\n",
      "1/1 - 0s - 66ms/step - accuracy: 1.0000 - loss: 0.0212 - val_accuracy: 1.0000 - val_loss: 0.0074\n",
      "Generated Text (Word-based): artificial intelligence person person person person person person person person person person person person person person person person discipline may person person term formal person fields term term term fields neuroscience term went fields optimism shift may fields processing academic operations fields founded founded ai fields fields founded ai fields chances founded\n"
     ]
    }
   ],
   "source": [
    "# Build the word-based RNN model\n",
    "model_word = tf.keras.Sequential([\n",
    "    tf.keras.layers.Embedding(input_dim=vocab_size_word, output_dim=64, input_length=max_len_word-1),\n",
    "    tf.keras.layers.RNN(tf.keras.layers.SimpleRNNCell(128), return_sequences=True),\n",
    "    tf.keras.layers.Dropout(0.2),\n",
    "    tf.keras.layers.RNN(tf.keras.layers.SimpleRNNCell(128)),\n",
    "    tf.keras.layers.Dropout(0.2),\n",
    "    tf.keras.layers.Dense(vocab_size_word, activation='softmax')\n",
    "])\n",
    "model_word.compile(loss='categorical_crossentropy', optimizer='adam', metrics=['accuracy'])\n",
    "\n",
    "# Train the word-based RNN model\n",
    "history_word = model_word.fit(X_train_word, y_train_word, epochs=30, validation_data=(X_test_word, y_test_word), verbose=2)\n",
    "\n",
    "# Generate text predictions for word-based model\n",
    "seed_text_word = \"artificial intelligence\"\n",
    "predicted_text_word = generate_text(seed_text_word, 50, model_word, tokenizer_word, max_len_word)\n",
    "print(\"Generated Text (Word-based):\", predicted_text_word)"
   ]
  },
  {
   "cell_type": "code",
   "execution_count": 12,
   "id": "594c5d7e",
   "metadata": {
    "execution": {
     "iopub.execute_input": "2024-05-21T18:32:50.098002Z",
     "iopub.status.busy": "2024-05-21T18:32:50.097193Z",
     "iopub.status.idle": "2024-05-21T18:32:52.536422Z",
     "shell.execute_reply": "2024-05-21T18:32:52.535290Z"
    },
    "papermill": {
     "duration": 2.456294,
     "end_time": "2024-05-21T18:32:52.539032",
     "exception": false,
     "start_time": "2024-05-21T18:32:50.082738",
     "status": "completed"
    },
    "tags": []
   },
   "outputs": [
    {
     "data": {
      "image/png": "[encoded data removed]",
      "text/plain": [
       "<Figure size 640x480 with 1 Axes>"
      ]
     },
     "metadata": {},
     "output_type": "display_data"
    },
    {
     "data": {
      "image/png": "[encoded data removed]",
      "text/plain": [
       "<Figure size 640x480 with 1 Axes>"
      ]
     },
     "metadata": {},
     "output_type": "display_data"
    },
    {
     "data": {
      "image/png": "[encoded data removed]",
      "text/plain": [
       "<Figure size 640x480 with 1 Axes>"
      ]
     },
     "metadata": {},
     "output_type": "display_data"
    },
    {
     "data": {
      "image/png": "[encoded data removed]",
      "text/plain": [
       "<Figure size 640x480 with 1 Axes>"
      ]
     },
     "metadata": {},
     "output_type": "display_data"
    }
   ],
   "source": [
    "# Create PDF Report\n",
    "conclusion_char = \"The character-based model performed well in generating text predictions based on the provided seed text. \" \\\n",
    "               \"Further tuning and experimentation could potentially improve its performance.\"\n",
    "\n",
    "conclusion_word = \"The word-based model also showed promising results in generating text predictions. \" \\\n",
    "               \"With additional training data and fine-tuning, its performance can be further improved.\"\n",
    "\n",
    "create_pdf_report(\"Character-based\", history_char, predicted_text_char, conclusion_char)\n",
    "create_pdf_report(\"Word-based\", history_word, predicted_text_word, conclusion_word)"
   ]
  },
  {
   "cell_type": "code",
   "execution_count": null,
   "id": "15644a63",
   "metadata": {
    "papermill": {
     "duration": 0.014402,
     "end_time": "2024-05-21T18:32:52.568599",
     "exception": false,
     "start_time": "2024-05-21T18:32:52.554197",
     "status": "completed"
    },
    "tags": []
   },
   "outputs": [],
   "source": []
  },
  {
   "cell_type": "code",
   "execution_count": null,
   "id": "f5f67a8c",
   "metadata": {
    "papermill": {
     "duration": 0.015106,
     "end_time": "2024-05-21T18:32:52.598570",
     "exception": false,
     "start_time": "2024-05-21T18:32:52.583464",
     "status": "completed"
    },
    "tags": []
   },
   "outputs": [],
   "source": []
  },
  {
   "cell_type": "code",
   "execution_count": null,
   "id": "a76ddcab",
   "metadata": {
    "papermill": {
     "duration": 0.014398,
     "end_time": "2024-05-21T18:32:52.627955",
     "exception": false,
     "start_time": "2024-05-21T18:32:52.613557",
     "status": "completed"
    },
    "tags": []
   },
   "outputs": [],
   "source": []
  }
 ],
 "metadata": {
  "kaggle": {
   "accelerator": "none",
   "dataSources": [],
   "dockerImageVersionId": 30698,
   "isGpuEnabled": false,
   "isInternetEnabled": true,
   "language": "python",
   "sourceType": "notebook"
  },
  "kernelspec": {
   "display_name": "Python 3",
   "language": "python",
   "name": "python3"
  },
  "language_info": {
   "codemirror_mode": {
    "name": "ipython",
    "version": 3
   },
   "file_extension": ".py",
   "mimetype": "text/x-python",
   "name": "python",
   "nbconvert_exporter": "python",
   "pygments_lexer": "ipython3",
   "version": "3.10.13"
  },
  "papermill": {
   "default_parameters": {},
   "duration": 148.894588,
   "end_time": "2024-05-21T18:32:54.470611",
   "environment_variables": {},
   "exception": null,
   "input_path": "__notebook__.ipynb",
   "output_path": "__notebook__.ipynb",
   "parameters": {},
   "start_time": "2024-05-21T18:30:25.576023",
   "version": "2.5.0"
  }
 },
 "nbformat": 4,
 "nbformat_minor": 5
}
